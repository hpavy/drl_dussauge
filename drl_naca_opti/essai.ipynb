{
 "metadata": {
  "language_info": {
   "codemirror_mode": {
    "name": "ipython",
    "version": 3
   },
   "file_extension": ".py",
   "mimetype": "text/x-python",
   "name": "python",
   "nbconvert_exporter": "python",
   "pygments_lexer": "ipython3",
   "version": "3.9.17-final"
  },
  "orig_nbformat": 2,
  "kernelspec": {
   "name": "python3",
   "display_name": "Python 3.9.17 64-bit ('base': conda)",
   "metadata": {
    "interpreter": {
     "hash": "0dd73d4fd4a71f0f6a115d6a1d428910232e76ab76bf556c97170a256c9910bb"
    }
   }
  }
 },
 "nbformat": 4,
 "nbformat_minor": 2,
 "cells": [
  {
   "cell_type": "code",
   "execution_count": 1,
   "metadata": {},
   "outputs": [],
   "source": [
    "from drl_naca_opti import * "
   ]
  },
  {
   "cell_type": "code",
   "execution_count": 2,
   "metadata": {},
   "outputs": [],
   "source": [
    "testt = drl_naca_opti('print_naca')"
   ]
  },
  {
   "cell_type": "code",
   "execution_count": 3,
   "metadata": {},
   "outputs": [
    {
     "output_type": "stream",
     "name": "stderr",
     "text": [
      "Warning : Skipping unknown option '--ip=127.0.0.1'\n",
      "Warning : Skipping unknown option '--stdin=9058'\n",
      "Warning : Skipping unknown option '--control=9056'\n",
      "Warning : Skipping unknown option '--hb=9055'\n",
      "Warning : Skipping unknown option '--Session.signature_scheme=\"hmac-sha256\"'\n",
      "Warning : Skipping unknown option '--Session.key=b\"11329f7c-6544-49ab-b42b-5f0e70bf0cc8\"'\n",
      "Warning : Skipping unknown option '--shell=9057'\n",
      "Warning : Skipping unknown option '--transport=\"tcp\"'\n",
      "Warning : Skipping unknown option '--iopub=9059'\n",
      "Warning : Skipping unknown option '--f=/var/folders/h4/q12kpt595_3gn2d_n4g1xcfr0000gn/T/tmp-8198VfQonne2ocSo.json'\n",
      "Info    : Meshing 1D...\n",
      "Info    : Meshing curve 1 (Nurb)\n",
      "Info    : Done meshing 1D (Wall 0.0180262s, CPU 0.017027s)\n",
      "Info    : Meshing 2D...\n",
      "Info    : Meshing surface 1 (Plane, Frontal-Delaunay)\n",
      "Info    : Done meshing 2D (Wall 0.121627s, CPU 0.11717s)\n",
      "Info    : 4260 nodes 8375 elements\n",
      "Info    : Writing 'print_naca/11/cfd/airfoil.msh'...\n",
      "Info    : Done writing 'print_naca/11/cfd/airfoil.msh'\n",
      "<module 'posixpath' from '/Users/hugopavy/opt/miniconda3/lib/python3.9/posixpath.py'>\n",
      "python3: can't open file '/Users/hugopavy/Desktop/mines_2A/TR_fluide/drl_dussauge/drl_naca_opti/print_naca/11/cfd/gmsh2mtc.py': [Errno 2] No such file or directory\n",
      "sh: module: command not found\n",
      "sh: mtcexe: command not found\n",
      "cp: airfoil.t: No such file or directory\n",
      "sh: mpirun: command not found\n",
      "mv: rename print_naca/11/cfd/Resultats/2d/* to print_naca/11/vtu/./*: No such file or directory\n",
      "mv: rename print_naca/11/cfd/Resultats/Efforts.txt to print_naca/11/effort/./Efforts.txt: No such file or directory\n",
      "cp: print_naca/11/vtu/bulles_00800.vtu: No such file or directory\n",
      "mv: rename ./video/bulles_00800.vtu to ./video/video_0.vtu: No such file or directory\n"
     ]
    },
    {
     "output_type": "execute_result",
     "data": {
      "text/plain": [
       "-1000"
      ]
     },
     "metadata": {},
     "execution_count": 3
    }
   ],
   "source": [
    "testt.cfd_solve(testt.x_0, 11)"
   ]
  },
  {
   "cell_type": "code",
   "execution_count": null,
   "metadata": {},
   "outputs": [],
   "source": []
  }
 ]
}